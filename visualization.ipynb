{
 "cells": [
  {
   "cell_type": "code",
   "execution_count": 1,
   "metadata": {},
   "outputs": [],
   "source": [
    "import numpy as np\n",
    "import pandas as pd\n",
    "import matplotlib.pyplot as plt"
   ]
  },
  {
   "cell_type": "code",
   "execution_count": 2,
   "metadata": {},
   "outputs": [],
   "source": [
    "def parse_results(path):\n",
    "    res = []\n",
    "    with open(path, \"r\") as inp:\n",
    "        for line in inp:\n",
    "            if line.startswith(\"TIME\"):\n",
    "                _, t = line.split()\n",
    "                res.append(float(t))\n",
    "    return res"
   ]
  },
  {
   "cell_type": "code",
   "execution_count": 3,
   "metadata": {},
   "outputs": [
    {
     "ename": "TypeError",
     "evalue": "cannot unpack non-iterable builtin_function_or_method object",
     "output_type": "error",
     "traceback": [
      "\u001b[1;31m---------------------------------------------------------------------------\u001b[0m",
      "\u001b[1;31mTypeError\u001b[0m                                 Traceback (most recent call last)",
      "Cell \u001b[1;32mIn[3], line 1\u001b[0m\n\u001b[1;32m----> 1\u001b[0m parse_results(\u001b[39m\"\u001b[39;49m\u001b[39mCBS_DS/results.txt\u001b[39;49m\u001b[39m\"\u001b[39;49m)\n",
      "Cell \u001b[1;32mIn[2], line 6\u001b[0m, in \u001b[0;36mparse_results\u001b[1;34m(path)\u001b[0m\n\u001b[0;32m      4\u001b[0m     \u001b[39mfor\u001b[39;00m line \u001b[39min\u001b[39;00m inp:\n\u001b[0;32m      5\u001b[0m         \u001b[39mif\u001b[39;00m line\u001b[39m.\u001b[39mstartswith(\u001b[39m\"\u001b[39m\u001b[39mTIME\u001b[39m\u001b[39m\"\u001b[39m):\n\u001b[1;32m----> 6\u001b[0m             _, t \u001b[39m=\u001b[39m line\u001b[39m.\u001b[39msplit\n\u001b[0;32m      7\u001b[0m             res\u001b[39m.\u001b[39mappend(\u001b[39mfloat\u001b[39m(t))\n\u001b[0;32m      8\u001b[0m \u001b[39mreturn\u001b[39;00m res\n",
      "\u001b[1;31mTypeError\u001b[0m: cannot unpack non-iterable builtin_function_or_method object"
     ]
    }
   ],
   "source": [
    "parse_results(\"CBS_DS/results.txt\")"
   ]
  }
 ],
 "metadata": {
  "kernelspec": {
   "display_name": "Python 3",
   "language": "python",
   "name": "python3"
  },
  "language_info": {
   "codemirror_mode": {
    "name": "ipython",
    "version": 3
   },
   "file_extension": ".py",
   "mimetype": "text/x-python",
   "name": "python",
   "nbconvert_exporter": "python",
   "pygments_lexer": "ipython3",
   "version": "3.9.6"
  },
  "orig_nbformat": 4,
  "vscode": {
   "interpreter": {
    "hash": "d3ace4dc0fcf442be579ad1dd4e0f01a6ac3890f5c22a3673d592a754f4a1362"
   }
  }
 },
 "nbformat": 4,
 "nbformat_minor": 2
}
