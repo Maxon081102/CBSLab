{
 "cells": [
  {
   "cell_type": "code",
   "execution_count": 1,
   "id": "e7bedfad",
   "metadata": {},
   "outputs": [],
   "source": [
    "from testsCBS import test_cbs_on_map"
   ]
  },
  {
   "cell_type": "code",
   "execution_count": 2,
   "id": "bf0581bc",
   "metadata": {},
   "outputs": [
    {
     "data": {
      "image/png": "[encoded data removed]",
      "text/plain": [
       "<Figure size 960x720 with 1 Axes>"
      ]
     },
     "metadata": {},
     "output_type": "display_data"
    },
    {
     "ename": "KeyboardInterrupt",
     "evalue": "",
     "output_type": "error",
     "traceback": [
      "\u001b[1;31m---------------------------------------------------------------------------\u001b[0m",
      "\u001b[1;31mKeyboardInterrupt\u001b[0m                         Traceback (most recent call last)",
      "Cell \u001b[1;32mIn[2], line 1\u001b[0m\n\u001b[1;32m----> 1\u001b[0m test_cbs_on_map(\u001b[39m0\u001b[39;49m, \u001b[39m1\u001b[39;49m)\n",
      "File \u001b[1;32md:\\документы\\Uni\\sem_5\\Heuristic\\CBS\\testsCBS.py:162\u001b[0m, in \u001b[0;36mtest_cbs_on_map\u001b[1;34m(number, number_test, show_debug, show_all_solution, show_path)\u001b[0m\n\u001b[0;32m    160\u001b[0m goal_points \u001b[39m=\u001b[39m tests[number][number_test][\u001b[39m1\u001b[39m]\n\u001b[0;32m    161\u001b[0m draw(test_map)\n\u001b[1;32m--> 162\u001b[0m sol \u001b[39m=\u001b[39m CBS(test_map, starts_points, goal_points, distance, SearchTreePQS, show_debug)\n\u001b[0;32m    163\u001b[0m \u001b[39mif\u001b[39;00m show_all_solution:\n\u001b[0;32m    164\u001b[0m     \u001b[39mfor\u001b[39;00m i \u001b[39min\u001b[39;00m \u001b[39mrange\u001b[39m(\u001b[39mlen\u001b[39m(starts_points)):\n",
      "File \u001b[1;32md:\\документы\\Uni\\sem_5\\Heuristic\\CBS\\CBS.py:89\u001b[0m, in \u001b[0;36mCBS\u001b[1;34m(grid_map, start_points, goal_points, heuristic_func, search_tree, show_debug)\u001b[0m\n\u001b[0;32m     83\u001b[0m \u001b[39melse\u001b[39;00m:\n\u001b[0;32m     84\u001b[0m     conflict_node \u001b[39m=\u001b[39m BaseNode(\n\u001b[0;32m     85\u001b[0m         current_node\u001b[39m.\u001b[39mget_solutions()\u001b[39m.\u001b[39msolutions[agent_index]\u001b[39m.\u001b[39mget_path()[step]\u001b[39m.\u001b[39mi, \n\u001b[0;32m     86\u001b[0m         current_node\u001b[39m.\u001b[39mget_solutions()\u001b[39m.\u001b[39msolutions[agent_index]\u001b[39m.\u001b[39mget_path()[step]\u001b[39m.\u001b[39mj\n\u001b[0;32m     87\u001b[0m     )\n\u001b[1;32m---> 89\u001b[0m new_cbs_node\u001b[39m.\u001b[39;49mget_constraints()\u001b[39m.\u001b[39;49madd_constraint(agents[agent_index], step, conflict_node)\n\u001b[0;32m     90\u001b[0m found, end, steps \u001b[39m=\u001b[39m astar(\n\u001b[0;32m     91\u001b[0m     grid_map, \n\u001b[0;32m     92\u001b[0m     agents[agent_index],\n\u001b[1;32m   (...)\u001b[0m\n\u001b[0;32m     95\u001b[0m     search_tree\n\u001b[0;32m     96\u001b[0m )\n\u001b[0;32m     97\u001b[0m \u001b[39mif\u001b[39;00m \u001b[39mnot\u001b[39;00m found:\n",
      "File \u001b[1;32md:\\документы\\Uni\\sem_5\\Heuristic\\CBS\\Constraints.py:53\u001b[0m, in \u001b[0;36mConstraints.add_constraint\u001b[1;34m(self, agent, step, base_node)\u001b[0m\n\u001b[0;32m     50\u001b[0m         \u001b[39mself\u001b[39m\u001b[39m.\u001b[39mlatest_conflicts[agent] \u001b[39m=\u001b[39m \u001b[39m-\u001b[39m\u001b[39m1\u001b[39m\n\u001b[0;32m     51\u001b[0m     \u001b[39mself\u001b[39m\u001b[39m.\u001b[39mlatest_conflicts[agent] \u001b[39m=\u001b[39m \u001b[39mmax\u001b[39m(step, \u001b[39mself\u001b[39m\u001b[39m.\u001b[39mlatest_conflicts[agent])\n\u001b[1;32m---> 53\u001b[0m \u001b[39mself\u001b[39;49m\u001b[39m.\u001b[39;49mupdate_hash(agent, step, base_node)\n",
      "File \u001b[1;32md:\\документы\\Uni\\sem_5\\Heuristic\\CBS\\Constraints.py:32\u001b[0m, in \u001b[0;36mConstraints.update_hash\u001b[1;34m(self, agent, step, base_node)\u001b[0m\n\u001b[0;32m     30\u001b[0m \u001b[39mwhile\u001b[39;00m i \u001b[39m<\u001b[39m \u001b[39mlen\u001b[39m(items):\n\u001b[0;32m     31\u001b[0m     a, i, j, t \u001b[39m=\u001b[39m \u001b[39mmap\u001b[39m(\u001b[39mint\u001b[39m, items[i]\u001b[39m.\u001b[39msplit())\n\u001b[1;32m---> 32\u001b[0m     \u001b[39mif\u001b[39;00m agent\u001b[39m.\u001b[39;49mindex \u001b[39m>\u001b[39m a:\n\u001b[0;32m     33\u001b[0m         \u001b[39mif\u001b[39;00m base_node\u001b[39m.\u001b[39mi \u001b[39m>\u001b[39m i \u001b[39mand\u001b[39;00m base_node\u001b[39m.\u001b[39mj \u001b[39m>\u001b[39m j:\n\u001b[0;32m     34\u001b[0m             \u001b[39mif\u001b[39;00m step \u001b[39m>\u001b[39m t:\n",
      "\u001b[1;31mKeyboardInterrupt\u001b[0m: "
     ]
    }
   ],
   "source": [
    "test_cbs_on_map(0, 1)"
   ]
  }
 ],
 "metadata": {
  "kernelspec": {
   "display_name": "Python 3",
   "language": "python",
   "name": "python3"
  },
  "language_info": {
   "codemirror_mode": {
    "name": "ipython",
    "version": 3
   },
   "file_extension": ".py",
   "mimetype": "text/x-python",
   "name": "python",
   "nbconvert_exporter": "python",
   "pygments_lexer": "ipython3",
   "version": "3.9.6"
  },
  "vscode": {
   "interpreter": {
    "hash": "d3ace4dc0fcf442be579ad1dd4e0f01a6ac3890f5c22a3673d592a754f4a1362"
   }
  }
 },
 "nbformat": 4,
 "nbformat_minor": 5
}
