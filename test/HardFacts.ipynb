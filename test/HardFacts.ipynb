{
 "cells": [
  {
   "cell_type": "code",
   "execution_count": 1,
   "metadata": {},
   "outputs": [],
   "source": [
    "from prepare import allWeHave, gimmemymaps, gimmemydata\n",
    "from test import perform_super_precise_tests\n",
    "\n",
    "%load_ext autoreload\n",
    "%autoreload 2"
   ]
  },
  {
   "cell_type": "code",
   "execution_count": 2,
   "metadata": {},
   "outputs": [],
   "source": [
    "maps = gimmemymaps()\n",
    "tests = gimmemydata()"
   ]
  },
  {
   "attachments": {},
   "cell_type": "markdown",
   "metadata": {},
   "source": [
    "# NLO\n",
    "![nlo](../showcase/nlo.svg)"
   ]
  },
  {
   "cell_type": "code",
   "execution_count": 5,
   "metadata": {},
   "outputs": [
    {
     "name": "stderr",
     "output_type": "stream",
     "text": [
      "  0%|          | 0/25 [00:00<?, ?it/s]"
     ]
    },
    {
     "name": "stdout",
     "output_type": "stream",
     "text": [
      "is about to remove the Algorithm(name='heuristic', run=<function CBSH at 0x7f99cc748dc0>)\n",
      "is about to remove the Algorithm(name='prioritizing', run=<function CBS_CP at 0x7f99cc748c10>)\n"
     ]
    },
    {
     "name": "stderr",
     "output_type": "stream",
     "text": [
      "  4%|▍         | 1/25 [10:57<4:22:56, 657.34s/it]"
     ]
    },
    {
     "name": "stdout",
     "output_type": "stream",
     "text": [
      "is about to remove the Algorithm(name='standard', run=<function CBS at 0x7f99cc7489d0>)\n",
      "is about to remove the Algorithm(name='heuristic', run=<function CBSH at 0x7f99cc748dc0>)\n",
      "is about to remove the Algorithm(name='prioritizing', run=<function CBS_CP at 0x7f99cc748c10>)\n"
     ]
    },
    {
     "name": "stderr",
     "output_type": "stream",
     "text": [
      "  8%|▊         | 2/25 [12:31<2:05:03, 326.24s/it]"
     ]
    },
    {
     "name": "stdout",
     "output_type": "stream",
     "text": [
      "is about to remove the Algorithm(name='standard', run=<function CBS at 0x7f99cc7489d0>)\n",
      "is about to remove the Algorithm(name='heuristic', run=<function CBSH at 0x7f99cc748dc0>)\n",
      "is about to remove the Algorithm(name='prioritizing', run=<function CBS_CP at 0x7f99cc748c10>)\n"
     ]
    },
    {
     "name": "stderr",
     "output_type": "stream",
     "text": [
      " 12%|█▏        | 3/25 [14:05<1:20:45, 220.25s/it]"
     ]
    },
    {
     "name": "stdout",
     "output_type": "stream",
     "text": [
      "is about to remove the Algorithm(name='standard', run=<function CBS at 0x7f99cc7489d0>)\n",
      "is about to remove the Algorithm(name='heuristic', run=<function CBSH at 0x7f99cc748dc0>)\n",
      "is about to remove the Algorithm(name='prioritizing', run=<function CBS_CP at 0x7f99cc748c10>)\n"
     ]
    },
    {
     "name": "stderr",
     "output_type": "stream",
     "text": [
      " 16%|█▌        | 4/25 [15:40<59:46, 170.81s/it]  "
     ]
    },
    {
     "name": "stdout",
     "output_type": "stream",
     "text": [
      "is about to remove the Algorithm(name='standard', run=<function CBS at 0x7f99cc7489d0>)\n",
      "is about to remove the Algorithm(name='heuristic', run=<function CBSH at 0x7f99cc748dc0>)\n",
      "is about to remove the Algorithm(name='prioritizing', run=<function CBS_CP at 0x7f99cc748c10>)\n"
     ]
    },
    {
     "name": "stderr",
     "output_type": "stream",
     "text": [
      " 20%|██        | 5/25 [17:15<47:49, 143.49s/it]"
     ]
    },
    {
     "name": "stdout",
     "output_type": "stream",
     "text": [
      "is about to remove the Algorithm(name='standard', run=<function CBS at 0x7f99cc7489d0>)\n",
      "is about to remove the Algorithm(name='heuristic', run=<function CBSH at 0x7f99cc748dc0>)\n",
      "is about to remove the Algorithm(name='prioritizing', run=<function CBS_CP at 0x7f99cc748c10>)\n"
     ]
    },
    {
     "name": "stderr",
     "output_type": "stream",
     "text": [
      " 24%|██▍       | 6/25 [18:50<40:11, 126.95s/it]"
     ]
    },
    {
     "name": "stdout",
     "output_type": "stream",
     "text": [
      "is about to remove the Algorithm(name='standard', run=<function CBS at 0x7f99cc7489d0>)\n",
      "is about to remove the Algorithm(name='heuristic', run=<function CBSH at 0x7f99cc748dc0>)\n",
      "is about to remove the Algorithm(name='prioritizing', run=<function CBS_CP at 0x7f99cc748c10>)\n"
     ]
    },
    {
     "name": "stderr",
     "output_type": "stream",
     "text": [
      " 28%|██▊       | 7/25 [20:26<34:58, 116.58s/it]"
     ]
    },
    {
     "name": "stdout",
     "output_type": "stream",
     "text": [
      "is about to remove the Algorithm(name='standard', run=<function CBS at 0x7f99cc7489d0>)\n",
      "is about to remove the Algorithm(name='heuristic', run=<function CBSH at 0x7f99cc748dc0>)\n",
      "is about to remove the Algorithm(name='prioritizing', run=<function CBS_CP at 0x7f99cc748c10>)\n"
     ]
    },
    {
     "name": "stderr",
     "output_type": "stream",
     "text": [
      " 32%|███▏      | 8/25 [22:01<31:04, 109.70s/it]"
     ]
    },
    {
     "name": "stdout",
     "output_type": "stream",
     "text": [
      "is about to remove the Algorithm(name='standard', run=<function CBS at 0x7f99cc7489d0>)\n",
      "is about to remove the Algorithm(name='heuristic', run=<function CBSH at 0x7f99cc748dc0>)\n",
      "is about to remove the Algorithm(name='prioritizing', run=<function CBS_CP at 0x7f99cc748c10>)\n"
     ]
    },
    {
     "name": "stderr",
     "output_type": "stream",
     "text": [
      " 36%|███▌      | 9/25 [23:35<28:01, 105.08s/it]"
     ]
    },
    {
     "name": "stdout",
     "output_type": "stream",
     "text": [
      "is about to remove the Algorithm(name='standard', run=<function CBS at 0x7f99cc7489d0>)\n",
      "is about to remove the Algorithm(name='heuristic', run=<function CBSH at 0x7f99cc748dc0>)\n",
      "is about to remove the Algorithm(name='prioritizing', run=<function CBS_CP at 0x7f99cc748c10>)\n"
     ]
    },
    {
     "name": "stderr",
     "output_type": "stream",
     "text": [
      " 40%|████      | 10/25 [25:10<25:28, 101.92s/it]"
     ]
    },
    {
     "name": "stdout",
     "output_type": "stream",
     "text": [
      "is about to remove the Algorithm(name='standard', run=<function CBS at 0x7f99cc7489d0>)\n",
      "is about to remove the Algorithm(name='heuristic', run=<function CBSH at 0x7f99cc748dc0>)\n",
      "is about to remove the Algorithm(name='prioritizing', run=<function CBS_CP at 0x7f99cc748c10>)\n"
     ]
    },
    {
     "name": "stderr",
     "output_type": "stream",
     "text": [
      " 44%|████▍     | 11/25 [26:45<23:17, 99.85s/it] "
     ]
    },
    {
     "name": "stdout",
     "output_type": "stream",
     "text": [
      "is about to remove the Algorithm(name='standard', run=<function CBS at 0x7f99cc7489d0>)\n",
      "is about to remove the Algorithm(name='heuristic', run=<function CBSH at 0x7f99cc748dc0>)\n",
      "is about to remove the Algorithm(name='prioritizing', run=<function CBS_CP at 0x7f99cc748c10>)\n"
     ]
    },
    {
     "name": "stderr",
     "output_type": "stream",
     "text": [
      " 48%|████▊     | 12/25 [28:20<21:18, 98.35s/it]"
     ]
    },
    {
     "name": "stdout",
     "output_type": "stream",
     "text": [
      "is about to remove the Algorithm(name='standard', run=<function CBS at 0x7f99cc7489d0>)\n",
      "is about to remove the Algorithm(name='heuristic', run=<function CBSH at 0x7f99cc748dc0>)\n",
      "is about to remove the Algorithm(name='prioritizing', run=<function CBS_CP at 0x7f99cc748c10>)\n"
     ]
    },
    {
     "name": "stderr",
     "output_type": "stream",
     "text": [
      " 52%|█████▏    | 13/25 [29:55<19:27, 97.31s/it]"
     ]
    },
    {
     "name": "stdout",
     "output_type": "stream",
     "text": [
      "is about to remove the Algorithm(name='standard', run=<function CBS at 0x7f99cc7489d0>)\n",
      "is about to remove the Algorithm(name='heuristic', run=<function CBSH at 0x7f99cc748dc0>)\n",
      "is about to remove the Algorithm(name='prioritizing', run=<function CBS_CP at 0x7f99cc748c10>)\n"
     ]
    },
    {
     "name": "stderr",
     "output_type": "stream",
     "text": [
      " 56%|█████▌    | 14/25 [31:30<17:42, 96.57s/it]"
     ]
    },
    {
     "name": "stdout",
     "output_type": "stream",
     "text": [
      "is about to remove the Algorithm(name='standard', run=<function CBS at 0x7f99cc7489d0>)\n",
      "is about to remove the Algorithm(name='heuristic', run=<function CBSH at 0x7f99cc748dc0>)\n",
      "is about to remove the Algorithm(name='prioritizing', run=<function CBS_CP at 0x7f99cc748c10>)\n"
     ]
    },
    {
     "name": "stderr",
     "output_type": "stream",
     "text": [
      " 60%|██████    | 15/25 [33:05<15:59, 95.98s/it]"
     ]
    },
    {
     "name": "stdout",
     "output_type": "stream",
     "text": [
      "is about to remove the Algorithm(name='standard', run=<function CBS at 0x7f99cc7489d0>)\n",
      "is about to remove the Algorithm(name='heuristic', run=<function CBSH at 0x7f99cc748dc0>)\n",
      "is about to remove the Algorithm(name='prioritizing', run=<function CBS_CP at 0x7f99cc748c10>)\n"
     ]
    },
    {
     "name": "stderr",
     "output_type": "stream",
     "text": [
      " 64%|██████▍   | 16/25 [34:40<14:20, 95.66s/it]"
     ]
    },
    {
     "name": "stdout",
     "output_type": "stream",
     "text": [
      "is about to remove the Algorithm(name='standard', run=<function CBS at 0x7f99cc7489d0>)\n",
      "is about to remove the Algorithm(name='heuristic', run=<function CBSH at 0x7f99cc748dc0>)\n",
      "is about to remove the Algorithm(name='prioritizing', run=<function CBS_CP at 0x7f99cc748c10>)\n"
     ]
    },
    {
     "name": "stderr",
     "output_type": "stream",
     "text": [
      " 68%|██████▊   | 17/25 [36:15<12:44, 95.55s/it]"
     ]
    },
    {
     "name": "stdout",
     "output_type": "stream",
     "text": [
      "is about to remove the Algorithm(name='standard', run=<function CBS at 0x7f99cc7489d0>)\n",
      "is about to remove the Algorithm(name='heuristic', run=<function CBSH at 0x7f99cc748dc0>)\n",
      "is about to remove the Algorithm(name='prioritizing', run=<function CBS_CP at 0x7f99cc748c10>)\n"
     ]
    },
    {
     "name": "stderr",
     "output_type": "stream",
     "text": [
      " 72%|███████▏  | 18/25 [37:50<11:07, 95.41s/it]"
     ]
    },
    {
     "name": "stdout",
     "output_type": "stream",
     "text": [
      "is about to remove the Algorithm(name='standard', run=<function CBS at 0x7f99cc7489d0>)\n",
      "is about to remove the Algorithm(name='heuristic', run=<function CBSH at 0x7f99cc748dc0>)\n",
      "is about to remove the Algorithm(name='prioritizing', run=<function CBS_CP at 0x7f99cc748c10>)\n"
     ]
    },
    {
     "name": "stderr",
     "output_type": "stream",
     "text": [
      " 76%|███████▌  | 19/25 [39:25<09:30, 95.15s/it]"
     ]
    },
    {
     "name": "stdout",
     "output_type": "stream",
     "text": [
      "is about to remove the Algorithm(name='standard', run=<function CBS at 0x7f99cc7489d0>)\n",
      "is about to remove the Algorithm(name='heuristic', run=<function CBSH at 0x7f99cc748dc0>)\n",
      "is about to remove the Algorithm(name='prioritizing', run=<function CBS_CP at 0x7f99cc748c10>)\n"
     ]
    },
    {
     "name": "stderr",
     "output_type": "stream",
     "text": [
      " 80%|████████  | 20/25 [40:58<07:53, 94.75s/it]"
     ]
    },
    {
     "name": "stdout",
     "output_type": "stream",
     "text": [
      "is about to remove the Algorithm(name='standard', run=<function CBS at 0x7f99cc7489d0>)\n",
      "is about to remove the Algorithm(name='heuristic', run=<function CBSH at 0x7f99cc748dc0>)\n",
      "is about to remove the Algorithm(name='prioritizing', run=<function CBS_CP at 0x7f99cc748c10>)\n"
     ]
    },
    {
     "name": "stderr",
     "output_type": "stream",
     "text": [
      " 84%|████████▍ | 21/25 [42:33<06:18, 94.60s/it]"
     ]
    },
    {
     "name": "stdout",
     "output_type": "stream",
     "text": [
      "is about to remove the Algorithm(name='standard', run=<function CBS at 0x7f99cc7489d0>)\n",
      "is about to remove the Algorithm(name='heuristic', run=<function CBSH at 0x7f99cc748dc0>)\n",
      "is about to remove the Algorithm(name='prioritizing', run=<function CBS_CP at 0x7f99cc748c10>)\n"
     ]
    },
    {
     "name": "stderr",
     "output_type": "stream",
     "text": [
      " 88%|████████▊ | 22/25 [44:08<04:44, 94.70s/it]"
     ]
    },
    {
     "name": "stdout",
     "output_type": "stream",
     "text": [
      "is about to remove the Algorithm(name='standard', run=<function CBS at 0x7f99cc7489d0>)\n",
      "is about to remove the Algorithm(name='heuristic', run=<function CBSH at 0x7f99cc748dc0>)\n",
      "is about to remove the Algorithm(name='prioritizing', run=<function CBS_CP at 0x7f99cc748c10>)\n"
     ]
    },
    {
     "name": "stderr",
     "output_type": "stream",
     "text": [
      " 92%|█████████▏| 23/25 [45:42<03:09, 94.58s/it]"
     ]
    },
    {
     "name": "stdout",
     "output_type": "stream",
     "text": [
      "is about to remove the Algorithm(name='standard', run=<function CBS at 0x7f99cc7489d0>)\n",
      "is about to remove the Algorithm(name='heuristic', run=<function CBSH at 0x7f99cc748dc0>)\n",
      "is about to remove the Algorithm(name='prioritizing', run=<function CBS_CP at 0x7f99cc748c10>)\n"
     ]
    },
    {
     "name": "stderr",
     "output_type": "stream",
     "text": [
      " 96%|█████████▌| 24/25 [47:16<01:34, 94.40s/it]"
     ]
    },
    {
     "name": "stdout",
     "output_type": "stream",
     "text": [
      "is about to remove the Algorithm(name='standard', run=<function CBS at 0x7f99cc7489d0>)\n",
      "is about to remove the Algorithm(name='heuristic', run=<function CBSH at 0x7f99cc748dc0>)\n",
      "is about to remove the Algorithm(name='prioritizing', run=<function CBS_CP at 0x7f99cc748c10>)\n"
     ]
    },
    {
     "name": "stderr",
     "output_type": "stream",
     "text": [
      "100%|██████████| 25/25 [48:50<00:00, 117.23s/it]"
     ]
    },
    {
     "name": "stdout",
     "output_type": "stream",
     "text": [
      "is about to remove the Algorithm(name='standard', run=<function CBS at 0x7f99cc7489d0>)\n"
     ]
    },
    {
     "name": "stderr",
     "output_type": "stream",
     "text": [
      "\n"
     ]
    }
   ],
   "source": [
    "tableNlo = perform_super_precise_tests(maps['nlo'], tests['nlo'], algorithms=allWeHave)"
   ]
  },
  {
   "attachments": {},
   "cell_type": "markdown",
   "metadata": {},
   "source": [
    "# Milk lake\n",
    "![lake](../showcase/milklake.svg)"
   ]
  },
  {
   "cell_type": "code",
   "execution_count": 8,
   "metadata": {},
   "outputs": [
    {
     "name": "stderr",
     "output_type": "stream",
     "text": [
      "  0%|          | 0/25 [00:00<?, ?it/s]"
     ]
    },
    {
     "name": "stdout",
     "output_type": "stream",
     "text": [
      "is about to remove the Algorithm(name='prioritizing', run=<function CBS_CP at 0x7f99cc748c10>)\n",
      "is about to remove the Algorithm(name='standard', run=<function CBS at 0x7f99cc7489d0>)\n"
     ]
    },
    {
     "name": "stderr",
     "output_type": "stream",
     "text": [
      "  4%|▍         | 1/25 [10:24<4:09:45, 624.39s/it]"
     ]
    },
    {
     "name": "stdout",
     "output_type": "stream",
     "text": [
      "is about to remove the Algorithm(name='heuristic', run=<function CBSH at 0x7f99cc748dc0>)\n",
      "is about to remove the Algorithm(name='heuristic', run=<function CBSH at 0x7f99cc748dc0>)\n",
      "is about to remove the Algorithm(name='prioritizing', run=<function CBS_CP at 0x7f99cc748c10>)\n"
     ]
    },
    {
     "name": "stderr",
     "output_type": "stream",
     "text": [
      "  8%|▊         | 2/25 [11:59<1:59:54, 312.79s/it]"
     ]
    },
    {
     "name": "stdout",
     "output_type": "stream",
     "text": [
      "is about to remove the Algorithm(name='standard', run=<function CBS at 0x7f99cc7489d0>)\n",
      "is about to remove the Algorithm(name='heuristic', run=<function CBSH at 0x7f99cc748dc0>)\n",
      "is about to remove the Algorithm(name='prioritizing', run=<function CBS_CP at 0x7f99cc748c10>)\n"
     ]
    },
    {
     "name": "stderr",
     "output_type": "stream",
     "text": [
      " 12%|█▏        | 3/25 [13:33<1:18:10, 213.20s/it]"
     ]
    },
    {
     "name": "stdout",
     "output_type": "stream",
     "text": [
      "is about to remove the Algorithm(name='standard', run=<function CBS at 0x7f99cc7489d0>)\n",
      "is about to remove the Algorithm(name='heuristic', run=<function CBSH at 0x7f99cc748dc0>)\n",
      "is about to remove the Algorithm(name='prioritizing', run=<function CBS_CP at 0x7f99cc748c10>)\n"
     ]
    },
    {
     "name": "stderr",
     "output_type": "stream",
     "text": [
      " 16%|█▌        | 4/25 [15:08<58:13, 166.34s/it]  "
     ]
    },
    {
     "name": "stdout",
     "output_type": "stream",
     "text": [
      "is about to remove the Algorithm(name='standard', run=<function CBS at 0x7f99cc7489d0>)\n",
      "is about to remove the Algorithm(name='heuristic', run=<function CBSH at 0x7f99cc748dc0>)\n",
      "is about to remove the Algorithm(name='prioritizing', run=<function CBS_CP at 0x7f99cc748c10>)\n"
     ]
    },
    {
     "name": "stderr",
     "output_type": "stream",
     "text": [
      " 20%|██        | 5/25 [16:42<46:50, 140.50s/it]"
     ]
    },
    {
     "name": "stdout",
     "output_type": "stream",
     "text": [
      "is about to remove the Algorithm(name='standard', run=<function CBS at 0x7f99cc7489d0>)\n",
      "is about to remove the Algorithm(name='heuristic', run=<function CBSH at 0x7f99cc748dc0>)\n",
      "is about to remove the Algorithm(name='prioritizing', run=<function CBS_CP at 0x7f99cc748c10>)\n"
     ]
    },
    {
     "name": "stderr",
     "output_type": "stream",
     "text": [
      " 24%|██▍       | 6/25 [18:17<39:33, 124.90s/it]"
     ]
    },
    {
     "name": "stdout",
     "output_type": "stream",
     "text": [
      "is about to remove the Algorithm(name='standard', run=<function CBS at 0x7f99cc7489d0>)\n",
      "is about to remove the Algorithm(name='heuristic', run=<function CBSH at 0x7f99cc748dc0>)\n",
      "is about to remove the Algorithm(name='prioritizing', run=<function CBS_CP at 0x7f99cc748c10>)\n"
     ]
    },
    {
     "name": "stderr",
     "output_type": "stream",
     "text": [
      " 28%|██▊       | 7/25 [19:52<34:29, 114.98s/it]"
     ]
    },
    {
     "name": "stdout",
     "output_type": "stream",
     "text": [
      "is about to remove the Algorithm(name='standard', run=<function CBS at 0x7f99cc7489d0>)\n",
      "is about to remove the Algorithm(name='heuristic', run=<function CBSH at 0x7f99cc748dc0>)\n",
      "is about to remove the Algorithm(name='prioritizing', run=<function CBS_CP at 0x7f99cc748c10>)\n"
     ]
    },
    {
     "name": "stderr",
     "output_type": "stream",
     "text": [
      " 32%|███▏      | 8/25 [21:27<30:50, 108.88s/it]"
     ]
    },
    {
     "name": "stdout",
     "output_type": "stream",
     "text": [
      "is about to remove the Algorithm(name='standard', run=<function CBS at 0x7f99cc7489d0>)\n",
      "is about to remove the Algorithm(name='heuristic', run=<function CBSH at 0x7f99cc748dc0>)\n",
      "is about to remove the Algorithm(name='prioritizing', run=<function CBS_CP at 0x7f99cc748c10>)\n"
     ]
    },
    {
     "name": "stderr",
     "output_type": "stream",
     "text": [
      " 36%|███▌      | 9/25 [23:02<27:52, 104.55s/it]"
     ]
    },
    {
     "name": "stdout",
     "output_type": "stream",
     "text": [
      "is about to remove the Algorithm(name='standard', run=<function CBS at 0x7f99cc7489d0>)\n",
      "is about to remove the Algorithm(name='heuristic', run=<function CBSH at 0x7f99cc748dc0>)\n",
      "is about to remove the Algorithm(name='prioritizing', run=<function CBS_CP at 0x7f99cc748c10>)\n"
     ]
    },
    {
     "name": "stderr",
     "output_type": "stream",
     "text": [
      " 40%|████      | 10/25 [24:36<25:19, 101.27s/it]"
     ]
    },
    {
     "name": "stdout",
     "output_type": "stream",
     "text": [
      "is about to remove the Algorithm(name='standard', run=<function CBS at 0x7f99cc7489d0>)\n",
      "is about to remove the Algorithm(name='heuristic', run=<function CBSH at 0x7f99cc748dc0>)\n",
      "is about to remove the Algorithm(name='prioritizing', run=<function CBS_CP at 0x7f99cc748c10>)\n"
     ]
    },
    {
     "name": "stderr",
     "output_type": "stream",
     "text": [
      " 44%|████▍     | 11/25 [26:11<23:10, 99.31s/it] "
     ]
    },
    {
     "name": "stdout",
     "output_type": "stream",
     "text": [
      "is about to remove the Algorithm(name='standard', run=<function CBS at 0x7f99cc7489d0>)\n",
      "is about to remove the Algorithm(name='heuristic', run=<function CBSH at 0x7f99cc748dc0>)\n",
      "is about to remove the Algorithm(name='prioritizing', run=<function CBS_CP at 0x7f99cc748c10>)\n"
     ]
    },
    {
     "name": "stderr",
     "output_type": "stream",
     "text": [
      " 48%|████▊     | 12/25 [27:46<21:12, 97.87s/it]"
     ]
    },
    {
     "name": "stdout",
     "output_type": "stream",
     "text": [
      "is about to remove the Algorithm(name='standard', run=<function CBS at 0x7f99cc7489d0>)\n",
      "is about to remove the Algorithm(name='heuristic', run=<function CBSH at 0x7f99cc748dc0>)\n",
      "is about to remove the Algorithm(name='prioritizing', run=<function CBS_CP at 0x7f99cc748c10>)\n"
     ]
    },
    {
     "name": "stderr",
     "output_type": "stream",
     "text": [
      " 52%|█████▏    | 13/25 [29:20<19:19, 96.60s/it]"
     ]
    },
    {
     "name": "stdout",
     "output_type": "stream",
     "text": [
      "is about to remove the Algorithm(name='standard', run=<function CBS at 0x7f99cc7489d0>)\n",
      "is about to remove the Algorithm(name='heuristic', run=<function CBSH at 0x7f99cc748dc0>)\n",
      "is about to remove the Algorithm(name='prioritizing', run=<function CBS_CP at 0x7f99cc748c10>)\n"
     ]
    },
    {
     "name": "stderr",
     "output_type": "stream",
     "text": [
      " 56%|█████▌    | 14/25 [30:54<17:37, 96.11s/it]"
     ]
    },
    {
     "name": "stdout",
     "output_type": "stream",
     "text": [
      "is about to remove the Algorithm(name='standard', run=<function CBS at 0x7f99cc7489d0>)\n",
      "is about to remove the Algorithm(name='heuristic', run=<function CBSH at 0x7f99cc748dc0>)\n",
      "is about to remove the Algorithm(name='prioritizing', run=<function CBS_CP at 0x7f99cc748c10>)\n"
     ]
    },
    {
     "name": "stderr",
     "output_type": "stream",
     "text": [
      " 60%|██████    | 15/25 [32:29<15:57, 95.73s/it]"
     ]
    },
    {
     "name": "stdout",
     "output_type": "stream",
     "text": [
      "is about to remove the Algorithm(name='standard', run=<function CBS at 0x7f99cc7489d0>)\n",
      "is about to remove the Algorithm(name='heuristic', run=<function CBSH at 0x7f99cc748dc0>)\n",
      "is about to remove the Algorithm(name='prioritizing', run=<function CBS_CP at 0x7f99cc748c10>)\n"
     ]
    },
    {
     "name": "stderr",
     "output_type": "stream",
     "text": [
      " 64%|██████▍   | 16/25 [34:03<14:16, 95.18s/it]"
     ]
    },
    {
     "name": "stdout",
     "output_type": "stream",
     "text": [
      "is about to remove the Algorithm(name='standard', run=<function CBS at 0x7f99cc7489d0>)\n",
      "is about to remove the Algorithm(name='heuristic', run=<function CBSH at 0x7f99cc748dc0>)\n",
      "is about to remove the Algorithm(name='prioritizing', run=<function CBS_CP at 0x7f99cc748c10>)\n"
     ]
    },
    {
     "name": "stderr",
     "output_type": "stream",
     "text": [
      " 68%|██████▊   | 17/25 [35:38<12:40, 95.07s/it]"
     ]
    },
    {
     "name": "stdout",
     "output_type": "stream",
     "text": [
      "is about to remove the Algorithm(name='standard', run=<function CBS at 0x7f99cc7489d0>)\n",
      "is about to remove the Algorithm(name='heuristic', run=<function CBSH at 0x7f99cc748dc0>)\n",
      "is about to remove the Algorithm(name='prioritizing', run=<function CBS_CP at 0x7f99cc748c10>)\n"
     ]
    },
    {
     "name": "stderr",
     "output_type": "stream",
     "text": [
      " 72%|███████▏  | 18/25 [37:13<11:04, 94.99s/it]"
     ]
    },
    {
     "name": "stdout",
     "output_type": "stream",
     "text": [
      "is about to remove the Algorithm(name='standard', run=<function CBS at 0x7f99cc7489d0>)\n",
      "is about to remove the Algorithm(name='heuristic', run=<function CBSH at 0x7f99cc748dc0>)\n",
      "is about to remove the Algorithm(name='prioritizing', run=<function CBS_CP at 0x7f99cc748c10>)\n"
     ]
    },
    {
     "name": "stderr",
     "output_type": "stream",
     "text": [
      " 76%|███████▌  | 19/25 [38:48<09:30, 95.04s/it]"
     ]
    },
    {
     "name": "stdout",
     "output_type": "stream",
     "text": [
      "is about to remove the Algorithm(name='standard', run=<function CBS at 0x7f99cc7489d0>)\n",
      "is about to remove the Algorithm(name='heuristic', run=<function CBSH at 0x7f99cc748dc0>)\n",
      "is about to remove the Algorithm(name='prioritizing', run=<function CBS_CP at 0x7f99cc748c10>)\n"
     ]
    },
    {
     "name": "stderr",
     "output_type": "stream",
     "text": [
      " 80%|████████  | 20/25 [40:22<07:54, 94.82s/it]"
     ]
    },
    {
     "name": "stdout",
     "output_type": "stream",
     "text": [
      "is about to remove the Algorithm(name='standard', run=<function CBS at 0x7f99cc7489d0>)\n",
      "is about to remove the Algorithm(name='heuristic', run=<function CBSH at 0x7f99cc748dc0>)\n",
      "is about to remove the Algorithm(name='prioritizing', run=<function CBS_CP at 0x7f99cc748c10>)\n"
     ]
    },
    {
     "name": "stderr",
     "output_type": "stream",
     "text": [
      " 84%|████████▍ | 21/25 [41:57<06:18, 94.69s/it]"
     ]
    },
    {
     "name": "stdout",
     "output_type": "stream",
     "text": [
      "is about to remove the Algorithm(name='standard', run=<function CBS at 0x7f99cc7489d0>)\n",
      "is about to remove the Algorithm(name='heuristic', run=<function CBSH at 0x7f99cc748dc0>)\n",
      "is about to remove the Algorithm(name='prioritizing', run=<function CBS_CP at 0x7f99cc748c10>)\n"
     ]
    },
    {
     "name": "stderr",
     "output_type": "stream",
     "text": [
      " 88%|████████▊ | 22/25 [43:32<04:44, 94.81s/it]"
     ]
    },
    {
     "name": "stdout",
     "output_type": "stream",
     "text": [
      "is about to remove the Algorithm(name='standard', run=<function CBS at 0x7f99cc7489d0>)\n",
      "is about to remove the Algorithm(name='heuristic', run=<function CBSH at 0x7f99cc748dc0>)\n",
      "is about to remove the Algorithm(name='prioritizing', run=<function CBS_CP at 0x7f99cc748c10>)\n"
     ]
    },
    {
     "name": "stderr",
     "output_type": "stream",
     "text": [
      " 92%|█████████▏| 23/25 [45:07<03:10, 95.04s/it]"
     ]
    },
    {
     "name": "stdout",
     "output_type": "stream",
     "text": [
      "is about to remove the Algorithm(name='standard', run=<function CBS at 0x7f99cc7489d0>)\n",
      "is about to remove the Algorithm(name='heuristic', run=<function CBSH at 0x7f99cc748dc0>)\n",
      "is about to remove the Algorithm(name='prioritizing', run=<function CBS_CP at 0x7f99cc748c10>)\n"
     ]
    },
    {
     "name": "stderr",
     "output_type": "stream",
     "text": [
      " 96%|█████████▌| 24/25 [46:43<01:35, 95.23s/it]"
     ]
    },
    {
     "name": "stdout",
     "output_type": "stream",
     "text": [
      "is about to remove the Algorithm(name='standard', run=<function CBS at 0x7f99cc7489d0>)\n",
      "is about to remove the Algorithm(name='heuristic', run=<function CBSH at 0x7f99cc748dc0>)\n",
      "is about to remove the Algorithm(name='prioritizing', run=<function CBS_CP at 0x7f99cc748c10>)\n"
     ]
    },
    {
     "name": "stderr",
     "output_type": "stream",
     "text": [
      "100%|██████████| 25/25 [48:19<00:00, 115.99s/it]"
     ]
    },
    {
     "name": "stdout",
     "output_type": "stream",
     "text": [
      "is about to remove the Algorithm(name='standard', run=<function CBS at 0x7f99cc7489d0>)\n"
     ]
    },
    {
     "name": "stderr",
     "output_type": "stream",
     "text": [
      "\n"
     ]
    }
   ],
   "source": [
    "tableLake = perform_super_precise_tests(maps['milklake'], tests['milklake'], algorithms=allWeHave)"
   ]
  },
  {
   "attachments": {},
   "cell_type": "markdown",
   "metadata": {},
   "source": [
    "# Amoung Us\n",
    "![lake](../showcase/amongus.svg)"
   ]
  },
  {
   "cell_type": "code",
   "execution_count": 11,
   "metadata": {},
   "outputs": [
    {
     "name": "stderr",
     "output_type": "stream",
     "text": [
      "  0%|          | 0/25 [00:00<?, ?it/s]"
     ]
    },
    {
     "name": "stdout",
     "output_type": "stream",
     "text": [
      "is about to remove the Algorithm(name='heuristic', run=<function CBSH at 0x7f99cc748dc0>)\n",
      "is about to remove the Algorithm(name='prioritizing', run=<function CBS_CP at 0x7f99cc748c10>)\n"
     ]
    },
    {
     "name": "stderr",
     "output_type": "stream",
     "text": [
      "  4%|▍         | 1/25 [09:03<3:37:35, 543.97s/it]"
     ]
    },
    {
     "name": "stdout",
     "output_type": "stream",
     "text": [
      "is about to remove the Algorithm(name='standard', run=<function CBS at 0x7f99cc7489d0>)\n",
      "is about to remove the Algorithm(name='heuristic', run=<function CBSH at 0x7f99cc748dc0>)\n",
      "is about to remove the Algorithm(name='prioritizing', run=<function CBS_CP at 0x7f99cc748c10>)\n"
     ]
    },
    {
     "name": "stderr",
     "output_type": "stream",
     "text": [
      "  8%|▊         | 2/25 [10:38<1:47:14, 279.75s/it]"
     ]
    },
    {
     "name": "stdout",
     "output_type": "stream",
     "text": [
      "is about to remove the Algorithm(name='standard', run=<function CBS at 0x7f99cc7489d0>)\n",
      "is about to remove the Algorithm(name='heuristic', run=<function CBSH at 0x7f99cc748dc0>)\n",
      "is about to remove the Algorithm(name='prioritizing', run=<function CBS_CP at 0x7f99cc748c10>)\n"
     ]
    },
    {
     "name": "stderr",
     "output_type": "stream",
     "text": [
      " 12%|█▏        | 3/25 [12:13<1:11:40, 195.47s/it]"
     ]
    },
    {
     "name": "stdout",
     "output_type": "stream",
     "text": [
      "is about to remove the Algorithm(name='standard', run=<function CBS at 0x7f99cc7489d0>)\n",
      "is about to remove the Algorithm(name='heuristic', run=<function CBSH at 0x7f99cc748dc0>)\n",
      "is about to remove the Algorithm(name='prioritizing', run=<function CBS_CP at 0x7f99cc748c10>)\n"
     ]
    },
    {
     "name": "stderr",
     "output_type": "stream",
     "text": [
      " 16%|█▌        | 4/25 [13:48<54:32, 155.82s/it]  "
     ]
    },
    {
     "name": "stdout",
     "output_type": "stream",
     "text": [
      "is about to remove the Algorithm(name='standard', run=<function CBS at 0x7f99cc7489d0>)\n",
      "is about to remove the Algorithm(name='heuristic', run=<function CBSH at 0x7f99cc748dc0>)\n",
      "is about to remove the Algorithm(name='prioritizing', run=<function CBS_CP at 0x7f99cc748c10>)\n"
     ]
    },
    {
     "name": "stderr",
     "output_type": "stream",
     "text": [
      " 20%|██        | 5/25 [15:22<44:28, 133.42s/it]"
     ]
    },
    {
     "name": "stdout",
     "output_type": "stream",
     "text": [
      "is about to remove the Algorithm(name='standard', run=<function CBS at 0x7f99cc7489d0>)\n",
      "is about to remove the Algorithm(name='heuristic', run=<function CBSH at 0x7f99cc748dc0>)\n",
      "is about to remove the Algorithm(name='prioritizing', run=<function CBS_CP at 0x7f99cc748c10>)\n"
     ]
    },
    {
     "name": "stderr",
     "output_type": "stream",
     "text": [
      " 24%|██▍       | 6/25 [16:58<38:09, 120.50s/it]"
     ]
    },
    {
     "name": "stdout",
     "output_type": "stream",
     "text": [
      "is about to remove the Algorithm(name='standard', run=<function CBS at 0x7f99cc7489d0>)\n",
      "is about to remove the Algorithm(name='heuristic', run=<function CBSH at 0x7f99cc748dc0>)\n",
      "is about to remove the Algorithm(name='prioritizing', run=<function CBS_CP at 0x7f99cc748c10>)\n"
     ]
    },
    {
     "name": "stderr",
     "output_type": "stream",
     "text": [
      " 28%|██▊       | 7/25 [18:31<33:31, 111.75s/it]"
     ]
    },
    {
     "name": "stdout",
     "output_type": "stream",
     "text": [
      "is about to remove the Algorithm(name='standard', run=<function CBS at 0x7f99cc7489d0>)\n",
      "is about to remove the Algorithm(name='heuristic', run=<function CBSH at 0x7f99cc748dc0>)\n",
      "is about to remove the Algorithm(name='prioritizing', run=<function CBS_CP at 0x7f99cc748c10>)\n"
     ]
    },
    {
     "name": "stderr",
     "output_type": "stream",
     "text": [
      " 32%|███▏      | 8/25 [20:06<30:07, 106.33s/it]"
     ]
    },
    {
     "name": "stdout",
     "output_type": "stream",
     "text": [
      "is about to remove the Algorithm(name='standard', run=<function CBS at 0x7f99cc7489d0>)\n",
      "is about to remove the Algorithm(name='heuristic', run=<function CBSH at 0x7f99cc748dc0>)\n",
      "is about to remove the Algorithm(name='prioritizing', run=<function CBS_CP at 0x7f99cc748c10>)\n"
     ]
    },
    {
     "name": "stderr",
     "output_type": "stream",
     "text": [
      " 36%|███▌      | 9/25 [21:42<27:27, 102.97s/it]"
     ]
    },
    {
     "name": "stdout",
     "output_type": "stream",
     "text": [
      "is about to remove the Algorithm(name='standard', run=<function CBS at 0x7f99cc7489d0>)\n",
      "is about to remove the Algorithm(name='heuristic', run=<function CBSH at 0x7f99cc748dc0>)\n",
      "is about to remove the Algorithm(name='prioritizing', run=<function CBS_CP at 0x7f99cc748c10>)\n"
     ]
    },
    {
     "name": "stderr",
     "output_type": "stream",
     "text": [
      " 40%|████      | 10/25 [23:17<25:09, 100.61s/it]"
     ]
    },
    {
     "name": "stdout",
     "output_type": "stream",
     "text": [
      "is about to remove the Algorithm(name='standard', run=<function CBS at 0x7f99cc7489d0>)\n",
      "is about to remove the Algorithm(name='heuristic', run=<function CBSH at 0x7f99cc748dc0>)\n",
      "is about to remove the Algorithm(name='prioritizing', run=<function CBS_CP at 0x7f99cc748c10>)\n"
     ]
    },
    {
     "name": "stderr",
     "output_type": "stream",
     "text": [
      " 44%|████▍     | 11/25 [24:52<23:03, 98.79s/it] "
     ]
    },
    {
     "name": "stdout",
     "output_type": "stream",
     "text": [
      "is about to remove the Algorithm(name='standard', run=<function CBS at 0x7f99cc7489d0>)\n",
      "is about to remove the Algorithm(name='heuristic', run=<function CBSH at 0x7f99cc748dc0>)\n",
      "is about to remove the Algorithm(name='prioritizing', run=<function CBS_CP at 0x7f99cc748c10>)\n"
     ]
    },
    {
     "name": "stderr",
     "output_type": "stream",
     "text": [
      " 48%|████▊     | 12/25 [26:27<21:10, 97.70s/it]"
     ]
    },
    {
     "name": "stdout",
     "output_type": "stream",
     "text": [
      "is about to remove the Algorithm(name='standard', run=<function CBS at 0x7f99cc7489d0>)\n",
      "is about to remove the Algorithm(name='heuristic', run=<function CBSH at 0x7f99cc748dc0>)\n",
      "is about to remove the Algorithm(name='prioritizing', run=<function CBS_CP at 0x7f99cc748c10>)\n"
     ]
    },
    {
     "name": "stderr",
     "output_type": "stream",
     "text": [
      " 52%|█████▏    | 13/25 [28:02<19:24, 97.06s/it]"
     ]
    },
    {
     "name": "stdout",
     "output_type": "stream",
     "text": [
      "is about to remove the Algorithm(name='standard', run=<function CBS at 0x7f99cc7489d0>)\n",
      "is about to remove the Algorithm(name='heuristic', run=<function CBSH at 0x7f99cc748dc0>)\n",
      "is about to remove the Algorithm(name='prioritizing', run=<function CBS_CP at 0x7f99cc748c10>)\n"
     ]
    },
    {
     "name": "stderr",
     "output_type": "stream",
     "text": [
      " 56%|█████▌    | 14/25 [29:38<17:41, 96.48s/it]"
     ]
    },
    {
     "name": "stdout",
     "output_type": "stream",
     "text": [
      "is about to remove the Algorithm(name='standard', run=<function CBS at 0x7f99cc7489d0>)\n",
      "is about to remove the Algorithm(name='heuristic', run=<function CBSH at 0x7f99cc748dc0>)\n",
      "is about to remove the Algorithm(name='prioritizing', run=<function CBS_CP at 0x7f99cc748c10>)\n"
     ]
    },
    {
     "name": "stderr",
     "output_type": "stream",
     "text": [
      " 60%|██████    | 15/25 [31:12<15:59, 95.93s/it]"
     ]
    },
    {
     "name": "stdout",
     "output_type": "stream",
     "text": [
      "is about to remove the Algorithm(name='standard', run=<function CBS at 0x7f99cc7489d0>)\n",
      "is about to remove the Algorithm(name='heuristic', run=<function CBSH at 0x7f99cc748dc0>)\n",
      "is about to remove the Algorithm(name='prioritizing', run=<function CBS_CP at 0x7f99cc748c10>)\n"
     ]
    },
    {
     "name": "stderr",
     "output_type": "stream",
     "text": [
      " 64%|██████▍   | 16/25 [32:47<14:19, 95.55s/it]"
     ]
    },
    {
     "name": "stdout",
     "output_type": "stream",
     "text": [
      "is about to remove the Algorithm(name='standard', run=<function CBS at 0x7f99cc7489d0>)\n",
      "is about to remove the Algorithm(name='heuristic', run=<function CBSH at 0x7f99cc748dc0>)\n",
      "is about to remove the Algorithm(name='prioritizing', run=<function CBS_CP at 0x7f99cc748c10>)\n"
     ]
    },
    {
     "name": "stderr",
     "output_type": "stream",
     "text": [
      " 68%|██████▊   | 17/25 [34:21<12:42, 95.27s/it]"
     ]
    },
    {
     "name": "stdout",
     "output_type": "stream",
     "text": [
      "is about to remove the Algorithm(name='standard', run=<function CBS at 0x7f99cc7489d0>)\n",
      "is about to remove the Algorithm(name='heuristic', run=<function CBSH at 0x7f99cc748dc0>)\n",
      "is about to remove the Algorithm(name='prioritizing', run=<function CBS_CP at 0x7f99cc748c10>)\n"
     ]
    },
    {
     "name": "stderr",
     "output_type": "stream",
     "text": [
      " 72%|███████▏  | 18/25 [35:55<11:02, 94.64s/it]"
     ]
    },
    {
     "name": "stdout",
     "output_type": "stream",
     "text": [
      "is about to remove the Algorithm(name='standard', run=<function CBS at 0x7f99cc7489d0>)\n",
      "is about to remove the Algorithm(name='heuristic', run=<function CBSH at 0x7f99cc748dc0>)\n",
      "is about to remove the Algorithm(name='prioritizing', run=<function CBS_CP at 0x7f99cc748c10>)\n"
     ]
    },
    {
     "name": "stderr",
     "output_type": "stream",
     "text": [
      " 76%|███████▌  | 19/25 [37:29<09:26, 94.42s/it]"
     ]
    },
    {
     "name": "stdout",
     "output_type": "stream",
     "text": [
      "is about to remove the Algorithm(name='standard', run=<function CBS at 0x7f99cc7489d0>)\n",
      "is about to remove the Algorithm(name='heuristic', run=<function CBSH at 0x7f99cc748dc0>)\n",
      "is about to remove the Algorithm(name='prioritizing', run=<function CBS_CP at 0x7f99cc748c10>)\n"
     ]
    },
    {
     "name": "stderr",
     "output_type": "stream",
     "text": [
      " 80%|████████  | 20/25 [39:04<07:53, 94.67s/it]"
     ]
    },
    {
     "name": "stdout",
     "output_type": "stream",
     "text": [
      "is about to remove the Algorithm(name='standard', run=<function CBS at 0x7f99cc7489d0>)\n",
      "is about to remove the Algorithm(name='heuristic', run=<function CBSH at 0x7f99cc748dc0>)\n",
      "is about to remove the Algorithm(name='prioritizing', run=<function CBS_CP at 0x7f99cc748c10>)\n"
     ]
    },
    {
     "name": "stderr",
     "output_type": "stream",
     "text": [
      " 84%|████████▍ | 21/25 [40:38<06:18, 94.63s/it]"
     ]
    },
    {
     "name": "stdout",
     "output_type": "stream",
     "text": [
      "is about to remove the Algorithm(name='standard', run=<function CBS at 0x7f99cc7489d0>)\n",
      "is about to remove the Algorithm(name='heuristic', run=<function CBSH at 0x7f99cc748dc0>)\n",
      "is about to remove the Algorithm(name='prioritizing', run=<function CBS_CP at 0x7f99cc748c10>)\n"
     ]
    },
    {
     "name": "stderr",
     "output_type": "stream",
     "text": [
      " 88%|████████▊ | 22/25 [42:14<04:44, 94.87s/it]"
     ]
    },
    {
     "name": "stdout",
     "output_type": "stream",
     "text": [
      "is about to remove the Algorithm(name='standard', run=<function CBS at 0x7f99cc7489d0>)\n",
      "is about to remove the Algorithm(name='heuristic', run=<function CBSH at 0x7f99cc748dc0>)\n",
      "is about to remove the Algorithm(name='prioritizing', run=<function CBS_CP at 0x7f99cc748c10>)\n"
     ]
    },
    {
     "name": "stderr",
     "output_type": "stream",
     "text": [
      " 92%|█████████▏| 23/25 [43:49<03:09, 95.00s/it]"
     ]
    },
    {
     "name": "stdout",
     "output_type": "stream",
     "text": [
      "is about to remove the Algorithm(name='standard', run=<function CBS at 0x7f99cc7489d0>)\n",
      "is about to remove the Algorithm(name='heuristic', run=<function CBSH at 0x7f99cc748dc0>)\n",
      "is about to remove the Algorithm(name='prioritizing', run=<function CBS_CP at 0x7f99cc748c10>)\n"
     ]
    },
    {
     "name": "stderr",
     "output_type": "stream",
     "text": [
      " 96%|█████████▌| 24/25 [45:24<01:34, 94.96s/it]"
     ]
    },
    {
     "name": "stdout",
     "output_type": "stream",
     "text": [
      "is about to remove the Algorithm(name='standard', run=<function CBS at 0x7f99cc7489d0>)\n",
      "is about to remove the Algorithm(name='heuristic', run=<function CBSH at 0x7f99cc748dc0>)\n",
      "is about to remove the Algorithm(name='prioritizing', run=<function CBS_CP at 0x7f99cc748c10>)\n"
     ]
    },
    {
     "name": "stderr",
     "output_type": "stream",
     "text": [
      "100%|██████████| 25/25 [46:59<00:00, 112.79s/it]"
     ]
    },
    {
     "name": "stdout",
     "output_type": "stream",
     "text": [
      "is about to remove the Algorithm(name='standard', run=<function CBS at 0x7f99cc7489d0>)\n"
     ]
    },
    {
     "name": "stderr",
     "output_type": "stream",
     "text": [
      "\n"
     ]
    }
   ],
   "source": [
    "tableUs = perform_super_precise_tests(maps['amongus'], tests['amongus'], algorithms=allWeHave)"
   ]
  }
 ],
 "metadata": {
  "kernelspec": {
   "display_name": "habitat",
   "language": "python",
   "name": "python3"
  },
  "language_info": {
   "codemirror_mode": {
    "name": "ipython",
    "version": 3
   },
   "file_extension": ".py",
   "mimetype": "text/x-python",
   "name": "python",
   "nbconvert_exporter": "python",
   "pygments_lexer": "ipython3",
   "version": "3.9.1"
  },
  "orig_nbformat": 4,
  "vscode": {
   "interpreter": {
    "hash": "e6b827da8ec570dda967925be2e5b87966504cdd70d9ab1bd95205617098a0d5"
   }
  }
 },
 "nbformat": 4,
 "nbformat_minor": 2
}
