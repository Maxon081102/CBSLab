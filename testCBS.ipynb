{
 "cells": [
  {
   "cell_type": "code",
   "execution_count": 1,
   "id": "e7bedfad",
   "metadata": {},
   "outputs": [],
   "source": [
    "from testsCBS import test_cbs_on_map"
   ]
  },
  {
   "cell_type": "code",
   "execution_count": 14,
   "id": "bf0581bc",
   "metadata": {
    "scrolled": true
   },
   "outputs": [
    {
     "data": {
      "image/png": "[encoded data removed]",
      "text/plain": [
       "<Figure size 900x600 with 1 Axes>"
      ]
     },
     "metadata": {
      "needs_background": "light"
     },
     "output_type": "display_data"
    },
    {
     "ename": "KeyboardInterrupt",
     "evalue": "",
     "output_type": "error",
     "traceback": [
      "\u001b[0;31m---------------------------------------------------------------------------\u001b[0m",
      "\u001b[0;31mKeyboardInterrupt\u001b[0m                         Traceback (most recent call last)",
      "Input \u001b[0;32mIn [14]\u001b[0m, in \u001b[0;36m<cell line: 1>\u001b[0;34m()\u001b[0m\n\u001b[0;32m----> 1\u001b[0m \u001b[43mtest_cbs_on_map\u001b[49m\u001b[43m(\u001b[49m\u001b[38;5;241;43m2\u001b[39;49m\u001b[43m,\u001b[49m\u001b[43m \u001b[49m\u001b[38;5;241;43m0\u001b[39;49m\u001b[43m)\u001b[49m\n",
      "File \u001b[0;32m~/Documents/vuz/HAaF/CBSLab/testsCBS.py:158\u001b[0m, in \u001b[0;36mtest_cbs_on_map\u001b[0;34m(number, number_test, show_debug, show_all_solution, show_path)\u001b[0m\n\u001b[1;32m    156\u001b[0m goal_points \u001b[38;5;241m=\u001b[39m tests[number][number_test][\u001b[38;5;241m1\u001b[39m]\n\u001b[1;32m    157\u001b[0m draw(test_map)\n\u001b[0;32m--> 158\u001b[0m sol \u001b[38;5;241m=\u001b[39m \u001b[43mCBS\u001b[49m\u001b[43m(\u001b[49m\u001b[43mtest_map\u001b[49m\u001b[43m,\u001b[49m\u001b[43m \u001b[49m\u001b[43mstarts_points\u001b[49m\u001b[43m,\u001b[49m\u001b[43m \u001b[49m\u001b[43mgoal_points\u001b[49m\u001b[43m,\u001b[49m\u001b[43m \u001b[49m\u001b[43mdistance\u001b[49m\u001b[43m,\u001b[49m\u001b[43m \u001b[49m\u001b[43mSearchTreePQS\u001b[49m\u001b[43m,\u001b[49m\u001b[43m \u001b[49m\u001b[43mshow_debug\u001b[49m\u001b[43m)\u001b[49m\n\u001b[1;32m    159\u001b[0m \u001b[38;5;28;01mif\u001b[39;00m show_all_solution:\n\u001b[1;32m    160\u001b[0m     \u001b[38;5;28;01mfor\u001b[39;00m i \u001b[38;5;129;01min\u001b[39;00m \u001b[38;5;28mrange\u001b[39m(\u001b[38;5;28mlen\u001b[39m(starts_points)):\n",
      "File \u001b[0;32m~/Documents/vuz/HAaF/CBSLab/CBS.py:80\u001b[0m, in \u001b[0;36mCBS\u001b[0;34m(grid_map, starts_points, goals_points, heuristic_func, search_tree, show_debug)\u001b[0m\n\u001b[1;32m     76\u001b[0m new_cbs_node\u001b[38;5;241m.\u001b[39mget_constraints()\u001b[38;5;241m.\u001b[39madd_constraint(agent_index, step, conflict_node)\n\u001b[1;32m     77\u001b[0m print_debug(mode, \u001b[38;5;124m\"\u001b[39m\u001b[38;5;124mCONSTRAINTS\u001b[39m\u001b[38;5;124m\"\u001b[39m, new_cbs_node\u001b[38;5;241m.\u001b[39mget_constraints())\n\u001b[1;32m     78\u001b[0m find, end, steps \u001b[38;5;241m=\u001b[39m \u001b[43mastar\u001b[49m\u001b[43m(\u001b[49m\n\u001b[1;32m     79\u001b[0m \u001b[43m    \u001b[49m\u001b[43mgrid_map\u001b[49m\u001b[43m,\u001b[49m\n\u001b[0;32m---> 80\u001b[0m \u001b[43m    \u001b[49m\u001b[43mstarts_points\u001b[49m\u001b[43m[\u001b[49m\u001b[43magent_index\u001b[49m\u001b[43m]\u001b[49m\u001b[43m[\u001b[49m\u001b[38;5;241;43m0\u001b[39;49m\u001b[43m]\u001b[49m\u001b[43m,\u001b[49m\n\u001b[1;32m     81\u001b[0m \u001b[43m    \u001b[49m\u001b[43mstarts_points\u001b[49m\u001b[43m[\u001b[49m\u001b[43magent_index\u001b[49m\u001b[43m]\u001b[49m\u001b[43m[\u001b[49m\u001b[38;5;241;43m1\u001b[39;49m\u001b[43m]\u001b[49m\u001b[43m,\u001b[49m\n\u001b[1;32m     82\u001b[0m \u001b[43m    \u001b[49m\u001b[43mgoals_points\u001b[49m\u001b[43m[\u001b[49m\u001b[43magent_index\u001b[49m\u001b[43m]\u001b[49m\u001b[43m[\u001b[49m\u001b[38;5;241;43m0\u001b[39;49m\u001b[43m]\u001b[49m\u001b[43m,\u001b[49m\n\u001b[1;32m     83\u001b[0m \u001b[43m    \u001b[49m\u001b[43mgoals_points\u001b[49m\u001b[43m[\u001b[49m\u001b[43magent_index\u001b[49m\u001b[43m]\u001b[49m\u001b[43m[\u001b[49m\u001b[38;5;241;43m1\u001b[39;49m\u001b[43m]\u001b[49m\u001b[43m,\u001b[49m\n\u001b[1;32m     84\u001b[0m \u001b[43m    \u001b[49m\u001b[43magent_index\u001b[49m\u001b[43m,\u001b[49m\n\u001b[1;32m     85\u001b[0m \u001b[43m    \u001b[49m\u001b[43mnew_cbs_node\u001b[49m\u001b[38;5;241;43m.\u001b[39;49m\u001b[43mget_constraints\u001b[49m\u001b[43m(\u001b[49m\u001b[43m)\u001b[49m\u001b[43m,\u001b[49m\n\u001b[1;32m     86\u001b[0m \u001b[43m    \u001b[49m\u001b[43mheuristic_func\u001b[49m\u001b[43m,\u001b[49m\n\u001b[1;32m     87\u001b[0m \u001b[43m    \u001b[49m\u001b[43msearch_tree\u001b[49m\n\u001b[1;32m     88\u001b[0m \u001b[43m\u001b[49m\u001b[43m)\u001b[49m\n\u001b[1;32m     89\u001b[0m \u001b[38;5;28;01mif\u001b[39;00m \u001b[38;5;28mtype\u001b[39m(end) \u001b[38;5;241m==\u001b[39m \u001b[38;5;28mbool\u001b[39m:\n\u001b[1;32m     90\u001b[0m     \u001b[38;5;28;01mcontinue\u001b[39;00m\n",
      "File \u001b[0;32m~/Documents/vuz/HAaF/CBSLab/astar.py:162\u001b[0m, in \u001b[0;36mastar\u001b[0;34m(grid_map, start_i, start_j, goal_i, goal_j, agent_index, constraints, heuristic_func, search_tree, all_path)\u001b[0m\n\u001b[1;32m    160\u001b[0m \u001b[38;5;66;03m# current_node = ast.get_best_node_from_open()\u001b[39;00m\n\u001b[1;32m    161\u001b[0m ast\u001b[38;5;241m.\u001b[39madd_to_closed(current_node)\n\u001b[0;32m--> 162\u001b[0m neighbors \u001b[38;5;241m=\u001b[39m \u001b[43mgrid_map\u001b[49m\u001b[38;5;241;43m.\u001b[39;49m\u001b[43mget_neighbors\u001b[49m\u001b[43m(\u001b[49m\u001b[43mcurrent_node\u001b[49m\u001b[38;5;241;43m.\u001b[39;49m\u001b[43mi\u001b[49m\u001b[43m,\u001b[49m\u001b[43m \u001b[49m\u001b[43mcurrent_node\u001b[49m\u001b[38;5;241;43m.\u001b[39;49m\u001b[43mj\u001b[49m\u001b[43m)\u001b[49m\n\u001b[1;32m    163\u001b[0m \u001b[38;5;66;03m# print(\"NEIGHBORS \", neighbors)\u001b[39;00m\n\u001b[1;32m    164\u001b[0m \u001b[38;5;28;01mfor\u001b[39;00m point \u001b[38;5;129;01min\u001b[39;00m neighbors:\n",
      "File \u001b[0;32m~/Documents/vuz/HAaF/CBSLab/map.py:90\u001b[0m, in \u001b[0;36mMap.get_neighbors\u001b[0;34m(self, i, j)\u001b[0m\n\u001b[1;32m     87\u001b[0m \u001b[38;5;66;03m# neighbors_2 = []\u001b[39;00m\n\u001b[1;32m     88\u001b[0m \u001b[38;5;66;03m# delta_2 = [[1, 1], [1, -1], [-1, -1], [-1, 1]]\u001b[39;00m\n\u001b[1;32m     89\u001b[0m \u001b[38;5;28;01mfor\u001b[39;00m d \u001b[38;5;129;01min\u001b[39;00m delta:\n\u001b[0;32m---> 90\u001b[0m     \u001b[38;5;28;01mif\u001b[39;00m \u001b[38;5;28;43mself\u001b[39;49m\u001b[38;5;241;43m.\u001b[39;49m\u001b[43min_bounds\u001b[49m(i \u001b[38;5;241m+\u001b[39m d[\u001b[38;5;241m0\u001b[39m], j \u001b[38;5;241m+\u001b[39m d[\u001b[38;5;241m1\u001b[39m]) \u001b[38;5;129;01mand\u001b[39;00m \u001b[38;5;28mself\u001b[39m\u001b[38;5;241m.\u001b[39mtraversable(i \u001b[38;5;241m+\u001b[39m d[\u001b[38;5;241m0\u001b[39m], j \u001b[38;5;241m+\u001b[39m d[\u001b[38;5;241m1\u001b[39m]):\n\u001b[1;32m     91\u001b[0m         neighbors\u001b[38;5;241m.\u001b[39mappend((i \u001b[38;5;241m+\u001b[39m d[\u001b[38;5;241m0\u001b[39m], j \u001b[38;5;241m+\u001b[39m d[\u001b[38;5;241m1\u001b[39m]))\n\u001b[1;32m     92\u001b[0m \u001b[38;5;66;03m# for d in delta_2:\u001b[39;00m\n\u001b[1;32m     93\u001b[0m \u001b[38;5;66;03m#     if self.in_bounds(i + d[0], j + d[1]) and self.traversable(i + d[0], j + d[1]) and (i + d[0], j) in neighbors and (i, j + d[1]) in neighbors:\u001b[39;00m\n\u001b[1;32m     94\u001b[0m \u001b[38;5;66;03m#         neighbors_2.append((i + d[0], j + d[1]))\u001b[39;00m\n",
      "\u001b[0;31mKeyboardInterrupt\u001b[0m: "
     ]
    }
   ],
   "source": [
    "test_cbs_on_map(2, 0)"
   ]
  },
  {
   "cell_type": "code",
   "execution_count": null,
   "id": "13f13a79",
   "metadata": {},
   "outputs": [],
   "source": []
  }
 ],
 "metadata": {
  "kernelspec": {
   "display_name": "Python 3 (ipykernel)",
   "language": "python",
   "name": "python3"
  },
  "language_info": {
   "codemirror_mode": {
    "name": "ipython",
    "version": 3
   },
   "file_extension": ".py",
   "mimetype": "text/x-python",
   "name": "python",
   "nbconvert_exporter": "python",
   "pygments_lexer": "ipython3",
   "version": "3.9.12"
  }
 },
 "nbformat": 4,
 "nbformat_minor": 5
}
